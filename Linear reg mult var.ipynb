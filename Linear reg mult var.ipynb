{
 "cells": [
  {
   "cell_type": "code",
   "execution_count": 2,
   "metadata": {},
   "outputs": [
    {
     "name": "stdout",
     "output_type": "stream",
     "text": [
      "    population  number  profit\n",
      "0         2104       3  399900\n",
      "1         1600       3  329900\n",
      "2         2400       3  369000\n",
      "3         1416       2  232000\n",
      "4         3000       4  539900\n",
      "5         1985       4  299900\n",
      "6         1534       3  314900\n",
      "7         1427       3  198999\n",
      "8         1380       3  212000\n",
      "9         1494       3  242500\n",
      "10        1940       4  239999\n",
      "11        2000       3  347000\n",
      "12        1890       3  329999\n",
      "13        4478       5  699900\n",
      "14        1268       3  259900\n",
      "15        2300       4  449900\n",
      "16        1320       2  299900\n",
      "17        1236       3  199900\n",
      "18        2609       4  499998\n",
      "19        3031       4  599000\n",
      "20        1767       3  252900\n",
      "21        1888       2  255000\n",
      "22        1604       3  242900\n",
      "23        1962       4  259900\n",
      "24        3890       3  573900\n",
      "25        1100       3  249900\n",
      "26        1458       3  464500\n",
      "27        2526       3  469000\n",
      "28        2200       3  475000\n",
      "29        2637       3  299900\n",
      "30        1839       2  349900\n",
      "31        1000       1  169900\n",
      "32        2040       4  314900\n",
      "33        3137       3  579900\n",
      "34        1811       4  285900\n",
      "35        1437       3  249900\n",
      "36        1239       3  229900\n",
      "37        2132       4  345000\n",
      "38        4215       4  549000\n",
      "39        2162       4  287000\n",
      "40        1664       2  368500\n",
      "41        2238       3  329900\n",
      "42        2567       4  314000\n",
      "43        1200       3  299000\n",
      "44         852       2  179900\n",
      "45        1852       4  299900\n",
      "46        1203       3  239500\n"
     ]
    }
   ],
   "source": [
    "import pandas as pd\n",
    "import matplotlib.pyplot as plt\n",
    "import numpy as np\n",
    "\n",
    "\n",
    "data = pd.read_csv('ex1data2.csv')\n",
    "print(data)\n"
   ]
  },
  {
   "cell_type": "markdown",
   "metadata": {},
   "source": [
    "### Columns to lists"
   ]
  },
  {
   "cell_type": "code",
   "execution_count": 6,
   "metadata": {},
   "outputs": [],
   "source": [
    "population = list(data['population'])\n",
    "number = list(data['number'])\n",
    "profit = list(data['profit'])"
   ]
  },
  {
   "cell_type": "markdown",
   "metadata": {},
   "source": [
    "### Defining X,y matrix"
   ]
  },
  {
   "cell_type": "code",
   "execution_count": 10,
   "metadata": {},
   "outputs": [
    {
     "name": "stdout",
     "output_type": "stream",
     "text": [
      "[[1.000e+00 2.104e+03 3.000e+00]\n",
      " [1.000e+00 1.600e+03 3.000e+00]\n",
      " [1.000e+00 2.400e+03 3.000e+00]\n",
      " [1.000e+00 1.416e+03 2.000e+00]\n",
      " [1.000e+00 3.000e+03 4.000e+00]\n",
      " [1.000e+00 1.985e+03 4.000e+00]\n",
      " [1.000e+00 1.534e+03 3.000e+00]\n",
      " [1.000e+00 1.427e+03 3.000e+00]\n",
      " [1.000e+00 1.380e+03 3.000e+00]\n",
      " [1.000e+00 1.494e+03 3.000e+00]\n",
      " [1.000e+00 1.940e+03 4.000e+00]\n",
      " [1.000e+00 2.000e+03 3.000e+00]\n",
      " [1.000e+00 1.890e+03 3.000e+00]\n",
      " [1.000e+00 4.478e+03 5.000e+00]\n",
      " [1.000e+00 1.268e+03 3.000e+00]\n",
      " [1.000e+00 2.300e+03 4.000e+00]\n",
      " [1.000e+00 1.320e+03 2.000e+00]\n",
      " [1.000e+00 1.236e+03 3.000e+00]\n",
      " [1.000e+00 2.609e+03 4.000e+00]\n",
      " [1.000e+00 3.031e+03 4.000e+00]\n",
      " [1.000e+00 1.767e+03 3.000e+00]\n",
      " [1.000e+00 1.888e+03 2.000e+00]\n",
      " [1.000e+00 1.604e+03 3.000e+00]\n",
      " [1.000e+00 1.962e+03 4.000e+00]\n",
      " [1.000e+00 3.890e+03 3.000e+00]\n",
      " [1.000e+00 1.100e+03 3.000e+00]\n",
      " [1.000e+00 1.458e+03 3.000e+00]\n",
      " [1.000e+00 2.526e+03 3.000e+00]\n",
      " [1.000e+00 2.200e+03 3.000e+00]\n",
      " [1.000e+00 2.637e+03 3.000e+00]\n",
      " [1.000e+00 1.839e+03 2.000e+00]\n",
      " [1.000e+00 1.000e+03 1.000e+00]\n",
      " [1.000e+00 2.040e+03 4.000e+00]\n",
      " [1.000e+00 3.137e+03 3.000e+00]\n",
      " [1.000e+00 1.811e+03 4.000e+00]\n",
      " [1.000e+00 1.437e+03 3.000e+00]\n",
      " [1.000e+00 1.239e+03 3.000e+00]\n",
      " [1.000e+00 2.132e+03 4.000e+00]\n",
      " [1.000e+00 4.215e+03 4.000e+00]\n",
      " [1.000e+00 2.162e+03 4.000e+00]\n",
      " [1.000e+00 1.664e+03 2.000e+00]\n",
      " [1.000e+00 2.238e+03 3.000e+00]\n",
      " [1.000e+00 2.567e+03 4.000e+00]\n",
      " [1.000e+00 1.200e+03 3.000e+00]\n",
      " [1.000e+00 8.520e+02 2.000e+00]\n",
      " [1.000e+00 1.852e+03 4.000e+00]\n",
      " [1.000e+00 1.203e+03 3.000e+00]]\n"
     ]
    }
   ],
   "source": [
    "ones_1 = np.ones(len(population))\n",
    "\n",
    "\n",
    "\n",
    "X = np.transpose(np.matrix([list(ones_1), population, number]))\n",
    "y = np.transpose(np.matrix([profit[0:]]))\n",
    "\n",
    "print(X)\n"
   ]
  },
  {
   "cell_type": "markdown",
   "metadata": {},
   "source": [
    "### With normal equation"
   ]
  },
  {
   "cell_type": "code",
   "execution_count": 11,
   "metadata": {},
   "outputs": [
    {
     "name": "stdout",
     "output_type": "stream",
     "text": [
      "[[89597.9095428 ]\n",
      " [  139.21067402]\n",
      " [-8738.01911233]]\n"
     ]
    }
   ],
   "source": [
    "def theta(X,y):\n",
    "    theta = np.linalg.inv(np.transpose(X) * X) * np.transpose(X) * y\n",
    "    return theta\n",
    "\n",
    "print(theta(X,y))"
   ]
  },
  {
   "cell_type": "markdown",
   "metadata": {},
   "source": [
    "### With Gradient descent"
   ]
  },
  {
   "cell_type": "code",
   "execution_count": 32,
   "metadata": {},
   "outputs": [
    {
     "name": "stdout",
     "output_type": "stream",
     "text": [
      "Introduce theta 0: 1\n",
      "Introduce theta 1: 1\n",
      "Introduce theta 1: 1\n",
      "[[2108.]\n",
      " [1604.]\n",
      " [2404.]\n",
      " [1419.]\n",
      " [3005.]\n",
      " [1990.]\n",
      " [1538.]\n",
      " [1431.]\n",
      " [1384.]\n",
      " [1498.]\n",
      " [1945.]\n",
      " [2004.]\n",
      " [1894.]\n",
      " [4484.]\n",
      " [1272.]\n",
      " [2305.]\n",
      " [1323.]\n",
      " [1240.]\n",
      " [2614.]\n",
      " [3036.]\n",
      " [1771.]\n",
      " [1891.]\n",
      " [1608.]\n",
      " [1967.]\n",
      " [3894.]\n",
      " [1104.]\n",
      " [1462.]\n",
      " [2530.]\n",
      " [2204.]\n",
      " [2641.]\n",
      " [1842.]\n",
      " [1002.]\n",
      " [2045.]\n",
      " [3141.]\n",
      " [1816.]\n",
      " [1441.]\n",
      " [1243.]\n",
      " [2137.]\n",
      " [4220.]\n",
      " [2167.]\n",
      " [1667.]\n",
      " [2242.]\n",
      " [2572.]\n",
      " [1204.]\n",
      " [ 855.]\n",
      " [1857.]\n",
      " [1207.]]\n",
      "64828197300.797874\n",
      "[[1]\n",
      " [1]\n",
      " [1]]\n"
     ]
    }
   ],
   "source": [
    "def J(X, y, theta):\n",
    "    h = X * theta\n",
    "    m = len(y)\n",
    "    J = (np.sum((np.array(h - y))** 2))/(2 * m)\n",
    "    return J\n",
    "\n",
    "t0 = int(input(\"Introduce theta 0: \"))\n",
    "t1 = int(input(\"Introduce theta 1: \"))\n",
    "t2 = int(input(\"Introduce theta 1: \"))\n",
    "theta = np.transpose(np.matrix([t0,t1,t2]))\n",
    "\n",
    "print(J(X,y,theta))\n",
    "print(theta)\n"
   ]
  },
  {
   "cell_type": "code",
   "execution_count": 36,
   "metadata": {},
   "outputs": [
    {
     "name": "stdout",
     "output_type": "stream",
     "text": [
      "Introduce el número de iteraciones: 4\n",
      "Introduce el parámetro alpha: 0.1\n",
      "[[-1.59051670e+07]\n",
      " [-3.57002419e+10]\n",
      " [-5.23429550e+07]]\n",
      "[[7.14248132e+12]\n",
      " [1.64965074e+16]\n",
      " [2.38264257e+13]]\n",
      "[[-3.30042577e+18]\n",
      " [-7.62277035e+21]\n",
      " [-1.10098079e+19]]\n",
      "[[1.52507359e+24]\n",
      " [3.52235940e+27]\n",
      " [5.08745488e+24]]\n",
      "[[-3.24483040e+21]\n",
      " [-7.49436548e+24]\n",
      " [-1.08243487e+22]]\n"
     ]
    }
   ],
   "source": [
    "iterations = int(input(\"Introduce el número de iteraciones: \"))\n",
    "alpha = float(input(\"Introduce el parámetro alpha: \"))\n",
    "\n",
    "\n",
    "def grad_desc(X, y, theta, alpha, iterations):\n",
    "    m = len(y)\n",
    "    thet = theta\n",
    "    for i in range(iterations):\n",
    "        h = X * thet\n",
    "        z= (np.transpose(X) * (h - y))/ m\n",
    "       # print(thet-alpha * z)\n",
    "        print(np.transpose(X) * (h - y))\n",
    "        thet = thet -alpha * z\n",
    "    return thet\n",
    "\n",
    "thet_1 = grad_desc(X,y, theta, alpha, iterations)\n",
    "print(thet_1)\n"
   ]
  }
 ],
 "metadata": {
  "kernelspec": {
   "display_name": "Python 3",
   "language": "python",
   "name": "python3"
  },
  "language_info": {
   "codemirror_mode": {
    "name": "ipython",
    "version": 3
   },
   "file_extension": ".py",
   "mimetype": "text/x-python",
   "name": "python",
   "nbconvert_exporter": "python",
   "pygments_lexer": "ipython3",
   "version": "3.8.5"
  }
 },
 "nbformat": 4,
 "nbformat_minor": 4
}
