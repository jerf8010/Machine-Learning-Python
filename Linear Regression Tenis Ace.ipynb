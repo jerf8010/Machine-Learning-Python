{
 "cells": [
  {
   "cell_type": "markdown",
   "metadata": {},
   "source": [
    "# Multiple Linear Regression"
   ]
  },
  {
   "cell_type": "markdown",
   "metadata": {},
   "source": [
    "We will create a linear regression model that predicts the outcome for a tennis player based on their playing habits. "
   ]
  },
  {
   "cell_type": "code",
   "execution_count": 1,
   "metadata": {},
   "outputs": [],
   "source": [
    "import pandas as pd\n",
    "import numpy as np\n",
    "import matplotlib.pyplot as plt\n",
    "\n",
    "from sklearn.linear_model import LinearRegression \n",
    "from sklearn.model_selection import train_test_split"
   ]
  },
  {
   "cell_type": "code",
   "execution_count": 2,
   "metadata": {},
   "outputs": [
    {
     "data": {
      "text/html": [
       "<div>\n",
       "<style scoped>\n",
       "    .dataframe tbody tr th:only-of-type {\n",
       "        vertical-align: middle;\n",
       "    }\n",
       "\n",
       "    .dataframe tbody tr th {\n",
       "        vertical-align: top;\n",
       "    }\n",
       "\n",
       "    .dataframe thead th {\n",
       "        text-align: right;\n",
       "    }\n",
       "</style>\n",
       "<table border=\"1\" class=\"dataframe\">\n",
       "  <thead>\n",
       "    <tr style=\"text-align: right;\">\n",
       "      <th></th>\n",
       "      <th>Player</th>\n",
       "      <th>Year</th>\n",
       "      <th>FirstServe</th>\n",
       "      <th>FirstServePointsWon</th>\n",
       "      <th>FirstServeReturnPointsWon</th>\n",
       "      <th>SecondServePointsWon</th>\n",
       "      <th>SecondServeReturnPointsWon</th>\n",
       "      <th>Aces</th>\n",
       "      <th>BreakPointsConverted</th>\n",
       "      <th>BreakPointsFaced</th>\n",
       "      <th>...</th>\n",
       "      <th>ReturnGamesWon</th>\n",
       "      <th>ReturnPointsWon</th>\n",
       "      <th>ServiceGamesPlayed</th>\n",
       "      <th>ServiceGamesWon</th>\n",
       "      <th>TotalPointsWon</th>\n",
       "      <th>TotalServicePointsWon</th>\n",
       "      <th>Wins</th>\n",
       "      <th>Losses</th>\n",
       "      <th>Winnings</th>\n",
       "      <th>Ranking</th>\n",
       "    </tr>\n",
       "  </thead>\n",
       "  <tbody>\n",
       "    <tr>\n",
       "      <th>0</th>\n",
       "      <td>Pedro Sousa</td>\n",
       "      <td>2016</td>\n",
       "      <td>0.88</td>\n",
       "      <td>0.50</td>\n",
       "      <td>0.38</td>\n",
       "      <td>0.50</td>\n",
       "      <td>0.39</td>\n",
       "      <td>0</td>\n",
       "      <td>0.14</td>\n",
       "      <td>7</td>\n",
       "      <td>...</td>\n",
       "      <td>0.11</td>\n",
       "      <td>0.38</td>\n",
       "      <td>8</td>\n",
       "      <td>0.50</td>\n",
       "      <td>0.43</td>\n",
       "      <td>0.50</td>\n",
       "      <td>1</td>\n",
       "      <td>2</td>\n",
       "      <td>39820</td>\n",
       "      <td>119</td>\n",
       "    </tr>\n",
       "    <tr>\n",
       "      <th>1</th>\n",
       "      <td>Roman Safiullin</td>\n",
       "      <td>2017</td>\n",
       "      <td>0.84</td>\n",
       "      <td>0.62</td>\n",
       "      <td>0.26</td>\n",
       "      <td>0.33</td>\n",
       "      <td>0.07</td>\n",
       "      <td>7</td>\n",
       "      <td>0.00</td>\n",
       "      <td>7</td>\n",
       "      <td>...</td>\n",
       "      <td>0.00</td>\n",
       "      <td>0.20</td>\n",
       "      <td>9</td>\n",
       "      <td>0.67</td>\n",
       "      <td>0.41</td>\n",
       "      <td>0.57</td>\n",
       "      <td>0</td>\n",
       "      <td>1</td>\n",
       "      <td>17334</td>\n",
       "      <td>381</td>\n",
       "    </tr>\n",
       "    <tr>\n",
       "      <th>2</th>\n",
       "      <td>Pedro Sousa</td>\n",
       "      <td>2017</td>\n",
       "      <td>0.83</td>\n",
       "      <td>0.60</td>\n",
       "      <td>0.28</td>\n",
       "      <td>0.53</td>\n",
       "      <td>0.44</td>\n",
       "      <td>2</td>\n",
       "      <td>0.38</td>\n",
       "      <td>10</td>\n",
       "      <td>...</td>\n",
       "      <td>0.16</td>\n",
       "      <td>0.34</td>\n",
       "      <td>17</td>\n",
       "      <td>0.65</td>\n",
       "      <td>0.45</td>\n",
       "      <td>0.59</td>\n",
       "      <td>4</td>\n",
       "      <td>1</td>\n",
       "      <td>109827</td>\n",
       "      <td>119</td>\n",
       "    </tr>\n",
       "    <tr>\n",
       "      <th>3</th>\n",
       "      <td>Rogerio Dutra Silva</td>\n",
       "      <td>2010</td>\n",
       "      <td>0.83</td>\n",
       "      <td>0.64</td>\n",
       "      <td>0.34</td>\n",
       "      <td>0.59</td>\n",
       "      <td>0.33</td>\n",
       "      <td>2</td>\n",
       "      <td>0.33</td>\n",
       "      <td>5</td>\n",
       "      <td>...</td>\n",
       "      <td>0.14</td>\n",
       "      <td>0.34</td>\n",
       "      <td>15</td>\n",
       "      <td>0.80</td>\n",
       "      <td>0.49</td>\n",
       "      <td>0.63</td>\n",
       "      <td>0</td>\n",
       "      <td>0</td>\n",
       "      <td>9761</td>\n",
       "      <td>125</td>\n",
       "    </tr>\n",
       "    <tr>\n",
       "      <th>4</th>\n",
       "      <td>Daniel Gimeno-Traver</td>\n",
       "      <td>2017</td>\n",
       "      <td>0.81</td>\n",
       "      <td>0.54</td>\n",
       "      <td>0.00</td>\n",
       "      <td>0.33</td>\n",
       "      <td>0.33</td>\n",
       "      <td>1</td>\n",
       "      <td>0.00</td>\n",
       "      <td>2</td>\n",
       "      <td>...</td>\n",
       "      <td>0.00</td>\n",
       "      <td>0.20</td>\n",
       "      <td>2</td>\n",
       "      <td>0.50</td>\n",
       "      <td>0.35</td>\n",
       "      <td>0.50</td>\n",
       "      <td>0</td>\n",
       "      <td>1</td>\n",
       "      <td>32879</td>\n",
       "      <td>272</td>\n",
       "    </tr>\n",
       "    <tr>\n",
       "      <th>...</th>\n",
       "      <td>...</td>\n",
       "      <td>...</td>\n",
       "      <td>...</td>\n",
       "      <td>...</td>\n",
       "      <td>...</td>\n",
       "      <td>...</td>\n",
       "      <td>...</td>\n",
       "      <td>...</td>\n",
       "      <td>...</td>\n",
       "      <td>...</td>\n",
       "      <td>...</td>\n",
       "      <td>...</td>\n",
       "      <td>...</td>\n",
       "      <td>...</td>\n",
       "      <td>...</td>\n",
       "      <td>...</td>\n",
       "      <td>...</td>\n",
       "      <td>...</td>\n",
       "      <td>...</td>\n",
       "      <td>...</td>\n",
       "      <td>...</td>\n",
       "    </tr>\n",
       "    <tr>\n",
       "      <th>1716</th>\n",
       "      <td>Yann Marti</td>\n",
       "      <td>2010</td>\n",
       "      <td>0.41</td>\n",
       "      <td>0.66</td>\n",
       "      <td>0.23</td>\n",
       "      <td>0.45</td>\n",
       "      <td>0.50</td>\n",
       "      <td>1</td>\n",
       "      <td>0.75</td>\n",
       "      <td>8</td>\n",
       "      <td>...</td>\n",
       "      <td>0.23</td>\n",
       "      <td>0.36</td>\n",
       "      <td>12</td>\n",
       "      <td>0.67</td>\n",
       "      <td>0.45</td>\n",
       "      <td>0.53</td>\n",
       "      <td>0</td>\n",
       "      <td>1</td>\n",
       "      <td>9117</td>\n",
       "      <td>1062</td>\n",
       "    </tr>\n",
       "    <tr>\n",
       "      <th>1717</th>\n",
       "      <td>Mikhail Elgin</td>\n",
       "      <td>2012</td>\n",
       "      <td>0.41</td>\n",
       "      <td>0.60</td>\n",
       "      <td>0.30</td>\n",
       "      <td>0.36</td>\n",
       "      <td>0.60</td>\n",
       "      <td>3</td>\n",
       "      <td>0.60</td>\n",
       "      <td>13</td>\n",
       "      <td>...</td>\n",
       "      <td>0.33</td>\n",
       "      <td>0.43</td>\n",
       "      <td>10</td>\n",
       "      <td>0.40</td>\n",
       "      <td>0.45</td>\n",
       "      <td>0.46</td>\n",
       "      <td>16</td>\n",
       "      <td>20</td>\n",
       "      <td>89755</td>\n",
       "      <td>831</td>\n",
       "    </tr>\n",
       "    <tr>\n",
       "      <th>1718</th>\n",
       "      <td>Alexander Kudryavtsev</td>\n",
       "      <td>2012</td>\n",
       "      <td>0.40</td>\n",
       "      <td>0.64</td>\n",
       "      <td>0.21</td>\n",
       "      <td>0.42</td>\n",
       "      <td>0.42</td>\n",
       "      <td>4</td>\n",
       "      <td>0.25</td>\n",
       "      <td>13</td>\n",
       "      <td>...</td>\n",
       "      <td>0.07</td>\n",
       "      <td>0.29</td>\n",
       "      <td>14</td>\n",
       "      <td>0.57</td>\n",
       "      <td>0.40</td>\n",
       "      <td>0.51</td>\n",
       "      <td>0</td>\n",
       "      <td>1</td>\n",
       "      <td>44566</td>\n",
       "      <td>628</td>\n",
       "    </tr>\n",
       "    <tr>\n",
       "      <th>1719</th>\n",
       "      <td>Ivan Nedelko</td>\n",
       "      <td>2011</td>\n",
       "      <td>0.37</td>\n",
       "      <td>0.30</td>\n",
       "      <td>0.15</td>\n",
       "      <td>0.24</td>\n",
       "      <td>0.41</td>\n",
       "      <td>1</td>\n",
       "      <td>0.00</td>\n",
       "      <td>5</td>\n",
       "      <td>...</td>\n",
       "      <td>0.00</td>\n",
       "      <td>0.26</td>\n",
       "      <td>6</td>\n",
       "      <td>0.17</td>\n",
       "      <td>0.26</td>\n",
       "      <td>0.26</td>\n",
       "      <td>0</td>\n",
       "      <td>1</td>\n",
       "      <td>17527</td>\n",
       "      <td>264</td>\n",
       "    </tr>\n",
       "    <tr>\n",
       "      <th>1720</th>\n",
       "      <td>Alexander Zverev</td>\n",
       "      <td>2013</td>\n",
       "      <td>0.36</td>\n",
       "      <td>0.50</td>\n",
       "      <td>0.40</td>\n",
       "      <td>0.24</td>\n",
       "      <td>0.36</td>\n",
       "      <td>1</td>\n",
       "      <td>0.33</td>\n",
       "      <td>8</td>\n",
       "      <td>...</td>\n",
       "      <td>0.33</td>\n",
       "      <td>0.39</td>\n",
       "      <td>8</td>\n",
       "      <td>0.25</td>\n",
       "      <td>0.37</td>\n",
       "      <td>0.33</td>\n",
       "      <td>0</td>\n",
       "      <td>1</td>\n",
       "      <td>8869</td>\n",
       "      <td>4</td>\n",
       "    </tr>\n",
       "  </tbody>\n",
       "</table>\n",
       "<p>1721 rows × 24 columns</p>\n",
       "</div>"
      ],
      "text/plain": [
       "                     Player  Year  FirstServe  FirstServePointsWon  \\\n",
       "0               Pedro Sousa  2016        0.88                 0.50   \n",
       "1           Roman Safiullin  2017        0.84                 0.62   \n",
       "2               Pedro Sousa  2017        0.83                 0.60   \n",
       "3       Rogerio Dutra Silva  2010        0.83                 0.64   \n",
       "4      Daniel Gimeno-Traver  2017        0.81                 0.54   \n",
       "...                     ...   ...         ...                  ...   \n",
       "1716             Yann Marti  2010        0.41                 0.66   \n",
       "1717          Mikhail Elgin  2012        0.41                 0.60   \n",
       "1718  Alexander Kudryavtsev  2012        0.40                 0.64   \n",
       "1719           Ivan Nedelko  2011        0.37                 0.30   \n",
       "1720       Alexander Zverev  2013        0.36                 0.50   \n",
       "\n",
       "      FirstServeReturnPointsWon  SecondServePointsWon  \\\n",
       "0                          0.38                  0.50   \n",
       "1                          0.26                  0.33   \n",
       "2                          0.28                  0.53   \n",
       "3                          0.34                  0.59   \n",
       "4                          0.00                  0.33   \n",
       "...                         ...                   ...   \n",
       "1716                       0.23                  0.45   \n",
       "1717                       0.30                  0.36   \n",
       "1718                       0.21                  0.42   \n",
       "1719                       0.15                  0.24   \n",
       "1720                       0.40                  0.24   \n",
       "\n",
       "      SecondServeReturnPointsWon  Aces  BreakPointsConverted  \\\n",
       "0                           0.39     0                  0.14   \n",
       "1                           0.07     7                  0.00   \n",
       "2                           0.44     2                  0.38   \n",
       "3                           0.33     2                  0.33   \n",
       "4                           0.33     1                  0.00   \n",
       "...                          ...   ...                   ...   \n",
       "1716                        0.50     1                  0.75   \n",
       "1717                        0.60     3                  0.60   \n",
       "1718                        0.42     4                  0.25   \n",
       "1719                        0.41     1                  0.00   \n",
       "1720                        0.36     1                  0.33   \n",
       "\n",
       "      BreakPointsFaced  ...  ReturnGamesWon  ReturnPointsWon  \\\n",
       "0                    7  ...            0.11             0.38   \n",
       "1                    7  ...            0.00             0.20   \n",
       "2                   10  ...            0.16             0.34   \n",
       "3                    5  ...            0.14             0.34   \n",
       "4                    2  ...            0.00             0.20   \n",
       "...                ...  ...             ...              ...   \n",
       "1716                 8  ...            0.23             0.36   \n",
       "1717                13  ...            0.33             0.43   \n",
       "1718                13  ...            0.07             0.29   \n",
       "1719                 5  ...            0.00             0.26   \n",
       "1720                 8  ...            0.33             0.39   \n",
       "\n",
       "      ServiceGamesPlayed  ServiceGamesWon  TotalPointsWon  \\\n",
       "0                      8             0.50            0.43   \n",
       "1                      9             0.67            0.41   \n",
       "2                     17             0.65            0.45   \n",
       "3                     15             0.80            0.49   \n",
       "4                      2             0.50            0.35   \n",
       "...                  ...              ...             ...   \n",
       "1716                  12             0.67            0.45   \n",
       "1717                  10             0.40            0.45   \n",
       "1718                  14             0.57            0.40   \n",
       "1719                   6             0.17            0.26   \n",
       "1720                   8             0.25            0.37   \n",
       "\n",
       "      TotalServicePointsWon  Wins  Losses  Winnings  Ranking  \n",
       "0                      0.50     1       2     39820      119  \n",
       "1                      0.57     0       1     17334      381  \n",
       "2                      0.59     4       1    109827      119  \n",
       "3                      0.63     0       0      9761      125  \n",
       "4                      0.50     0       1     32879      272  \n",
       "...                     ...   ...     ...       ...      ...  \n",
       "1716                   0.53     0       1      9117     1062  \n",
       "1717                   0.46    16      20     89755      831  \n",
       "1718                   0.51     0       1     44566      628  \n",
       "1719                   0.26     0       1     17527      264  \n",
       "1720                   0.33     0       1      8869        4  \n",
       "\n",
       "[1721 rows x 24 columns]"
      ]
     },
     "execution_count": 2,
     "metadata": {},
     "output_type": "execute_result"
    }
   ],
   "source": [
    "df = pd.read_csv(\"tennis_stats.csv\")\n",
    "df"
   ]
  },
  {
   "cell_type": "markdown",
   "metadata": {},
   "source": [
    "### Exploratory analysis"
   ]
  },
  {
   "cell_type": "code",
   "execution_count": 3,
   "metadata": {},
   "outputs": [
    {
     "data": {
      "text/plain": [
       "<matplotlib.collections.PathCollection at 0x1eb7171bdf0>"
      ]
     },
     "execution_count": 3,
     "metadata": {},
     "output_type": "execute_result"
    },
    {
     "data": {
      "image/png": "[encoded data removed]",
      "text/plain": [
       "<Figure size 432x288 with 1 Axes>"
      ]
     },
     "metadata": {
      "needs_background": "light"
     },
     "output_type": "display_data"
    }
   ],
   "source": [
    "plt.scatter(df.TotalServicePointsWon, df.Winnings)"
   ]
  },
  {
   "cell_type": "code",
   "execution_count": 6,
   "metadata": {},
   "outputs": [
    {
     "data": {
      "text/plain": [
       "<matplotlib.collections.PathCollection at 0x1eb71a2d9d0>"
      ]
     },
     "execution_count": 6,
     "metadata": {},
     "output_type": "execute_result"
    },
    {
     "data": {
      "image/png": "[encoded data removed]",
      "text/plain": [
       "<Figure size 432x288 with 1 Axes>"
      ]
     },
     "metadata": {
      "needs_background": "light"
     },
     "output_type": "display_data"
    }
   ],
   "source": [
    "plt.scatter(df.ServiceGamesWon, df.Winnings)"
   ]
  },
  {
   "cell_type": "code",
   "execution_count": 7,
   "metadata": {},
   "outputs": [
    {
     "data": {
      "text/plain": [
       "<matplotlib.collections.PathCollection at 0x1eb71a9bc40>"
      ]
     },
     "execution_count": 7,
     "metadata": {},
     "output_type": "execute_result"
    },
    {
     "data": {
      "image/png": "[encoded data removed]",
      "text/plain": [
       "<Figure size 432x288 with 1 Axes>"
      ]
     },
     "metadata": {
      "needs_background": "light"
     },
     "output_type": "display_data"
    }
   ],
   "source": [
    "plt.scatter(df.BreakPointsFaced, df.Winnings)"
   ]
  },
  {
   "cell_type": "code",
   "execution_count": 8,
   "metadata": {},
   "outputs": [
    {
     "data": {
      "text/plain": [
       "<matplotlib.collections.PathCollection at 0x1eb71afc430>"
      ]
     },
     "execution_count": 8,
     "metadata": {},
     "output_type": "execute_result"
    },
    {
     "data": {
      "image/png": "[encoded data removed]",
      "text/plain": [
       "<Figure size 432x288 with 1 Axes>"
      ]
     },
     "metadata": {
      "needs_background": "light"
     },
     "output_type": "display_data"
    }
   ],
   "source": [
    "plt.scatter(df.BreakPointsOpportunities, df.Winnings)"
   ]
  },
  {
   "cell_type": "markdown",
   "metadata": {},
   "source": [
    "We found a strong relationship between the BreakPointsOpportunities feature and the Winnings outcome."
   ]
  },
  {
   "cell_type": "markdown",
   "metadata": {},
   "source": [
    "### Simple Linear Regression for BreakPointsOpportunities"
   ]
  },
  {
   "cell_type": "code",
   "execution_count": 56,
   "metadata": {},
   "outputs": [],
   "source": [
    "x = df['BreakPointsOpportunities']\n",
    "y = df['Winnings']"
   ]
  },
  {
   "cell_type": "markdown",
   "metadata": {},
   "source": [
    "#### Spliting the data into training and test datasets"
   ]
  },
  {
   "cell_type": "code",
   "execution_count": 57,
   "metadata": {},
   "outputs": [],
   "source": [
    "x_train, x_test, y_train, y_test = train_test_split(x, y, train_size = 0.8)"
   ]
  },
  {
   "cell_type": "code",
   "execution_count": 58,
   "metadata": {},
   "outputs": [],
   "source": [
    "x_train = np.array(x_train).reshape(-1,1)\n",
    "y_train = np.array(y_train).reshape(-1,1)\n",
    "\n",
    "x_test = np.array(x_test).reshape(-1,1)\n",
    "y_test = np.array(y_test).reshape(-1,1)"
   ]
  },
  {
   "cell_type": "markdown",
   "metadata": {},
   "source": [
    "#### Creating a model"
   ]
  },
  {
   "cell_type": "code",
   "execution_count": 59,
   "metadata": {},
   "outputs": [
    {
     "data": {
      "text/plain": [
       "LinearRegression()"
      ]
     },
     "execution_count": 59,
     "metadata": {},
     "output_type": "execute_result"
    }
   ],
   "source": [
    "model= LinearRegression()\n",
    "model.fit(x_train,y_train)\n"
   ]
  },
  {
   "cell_type": "markdown",
   "metadata": {},
   "source": [
    "#### Score the model"
   ]
  },
  {
   "cell_type": "code",
   "execution_count": 60,
   "metadata": {},
   "outputs": [
    {
     "name": "stdout",
     "output_type": "stream",
     "text": [
      "0.821900715850124\n"
     ]
    }
   ],
   "source": [
    "print(model.score(x_test, y_test))"
   ]
  },
  {
   "cell_type": "markdown",
   "metadata": {},
   "source": [
    "#### Predicting outcome based on our model and plotting it against the actual outcom"
   ]
  },
  {
   "cell_type": "code",
   "execution_count": 61,
   "metadata": {},
   "outputs": [],
   "source": [
    "y_predict = model.predict(x_test)"
   ]
  },
  {
   "cell_type": "code",
   "execution_count": 62,
   "metadata": {},
   "outputs": [
    {
     "data": {
      "image/png": "[encoded data removed]",
      "text/plain": [
       "<Figure size 432x288 with 1 Axes>"
      ]
     },
     "metadata": {
      "needs_background": "light"
     },
     "output_type": "display_data"
    }
   ],
   "source": [
    "plt.scatter(x_test, y_test, alpha = 0.4)\n",
    "plt.plot(x_test, y_predict, color = \"red\")\n",
    "plt.show()"
   ]
  },
  {
   "cell_type": "markdown",
   "metadata": {},
   "source": [
    "### Simple Linear Regression for 'FirstServeReturnPointsWon'"
   ]
  },
  {
   "cell_type": "code",
   "execution_count": 162,
   "metadata": {},
   "outputs": [],
   "source": [
    "x = df['FirstServeReturnPointsWon']\n",
    "y = df['Winnings']"
   ]
  },
  {
   "cell_type": "code",
   "execution_count": 163,
   "metadata": {},
   "outputs": [],
   "source": [
    "x_train, x_test, y_train, y_test = train_test_split(x, y, train_size = 0.8)"
   ]
  },
  {
   "cell_type": "code",
   "execution_count": 164,
   "metadata": {},
   "outputs": [],
   "source": [
    "x_train = np.array(x_train).reshape(-1,1)\n",
    "y_train = np.array(y_train).reshape(-1,1)\n",
    "\n",
    "x_test = np.array(x_test).reshape(-1,1)\n",
    "y_test = np.array(y_test).reshape(-1,1)"
   ]
  },
  {
   "cell_type": "code",
   "execution_count": 165,
   "metadata": {},
   "outputs": [
    {
     "data": {
      "text/plain": [
       "LinearRegression()"
      ]
     },
     "execution_count": 165,
     "metadata": {},
     "output_type": "execute_result"
    }
   ],
   "source": [
    "model = LinearRegression()\n",
    "model.fit(x_train, y_train)"
   ]
  },
  {
   "cell_type": "code",
   "execution_count": 166,
   "metadata": {},
   "outputs": [
    {
     "data": {
      "text/plain": [
       "0.026512482267007087"
      ]
     },
     "execution_count": 166,
     "metadata": {},
     "output_type": "execute_result"
    }
   ],
   "source": [
    "model.score(x_test, y_test)"
   ]
  },
  {
   "cell_type": "code",
   "execution_count": 167,
   "metadata": {},
   "outputs": [],
   "source": [
    "y_predict = model.predict(x_test)"
   ]
  },
  {
   "cell_type": "code",
   "execution_count": 168,
   "metadata": {},
   "outputs": [
    {
     "data": {
      "image/png": "[encoded data removed]",
      "text/plain": [
       "<Figure size 432x288 with 1 Axes>"
      ]
     },
     "metadata": {
      "needs_background": "light"
     },
     "output_type": "display_data"
    }
   ],
   "source": [
    "plt.scatter(x_test, y_test, alpha = 0.4)\n",
    "plt.plot(x_test, y_predict, color= \"red\")\n",
    "plt.show()"
   ]
  },
  {
   "cell_type": "markdown",
   "metadata": {},
   "source": [
    "### Linear Regression for BreakPointsFaced"
   ]
  },
  {
   "cell_type": "code",
   "execution_count": 78,
   "metadata": {},
   "outputs": [],
   "source": [
    "x = df['BreakPointsFaced']\n",
    "y = df['Winnings']"
   ]
  },
  {
   "cell_type": "code",
   "execution_count": 79,
   "metadata": {},
   "outputs": [],
   "source": [
    "x_train, x_test, y_train, y_test = train_test_split(x, y, train_size = 0.8)"
   ]
  },
  {
   "cell_type": "code",
   "execution_count": 80,
   "metadata": {},
   "outputs": [],
   "source": [
    "x_train = np.array(x_train).reshape(-1,1)\n",
    "y_train = np.array(y_train).reshape(-1,1)\n",
    "\n",
    "x_test = np.array(x_test).reshape(-1,1)\n",
    "y_test = np.array(y_test).reshape(-1,1)"
   ]
  },
  {
   "cell_type": "code",
   "execution_count": 81,
   "metadata": {},
   "outputs": [
    {
     "data": {
      "text/plain": [
       "LinearRegression()"
      ]
     },
     "execution_count": 81,
     "metadata": {},
     "output_type": "execute_result"
    }
   ],
   "source": [
    "model = LinearRegression()\n",
    "model.fit(x_train, y_train)"
   ]
  },
  {
   "cell_type": "code",
   "execution_count": 82,
   "metadata": {},
   "outputs": [
    {
     "name": "stdout",
     "output_type": "stream",
     "text": [
      "0.7799757297791783\n"
     ]
    }
   ],
   "source": [
    "print(model.score(x_test, y_test))"
   ]
  },
  {
   "cell_type": "code",
   "execution_count": 83,
   "metadata": {},
   "outputs": [],
   "source": [
    "y_predict = model.predict(x_test)"
   ]
  },
  {
   "cell_type": "code",
   "execution_count": 84,
   "metadata": {},
   "outputs": [
    {
     "data": {
      "image/png": "[encoded data removed]",
      "text/plain": [
       "<Figure size 432x288 with 1 Axes>"
      ]
     },
     "metadata": {
      "needs_background": "light"
     },
     "output_type": "display_data"
    }
   ],
   "source": [
    "plt.scatter(x_test, y_test, alpha = 0.4)\n",
    "plt.plot(x_test, y_predict, color = \"red\")\n",
    "plt.show()"
   ]
  },
  {
   "cell_type": "markdown",
   "metadata": {},
   "source": [
    "### Linear Regression with two features"
   ]
  },
  {
   "cell_type": "code",
   "execution_count": 85,
   "metadata": {},
   "outputs": [],
   "source": [
    "x = df[['BreakPointsOpportunities', 'FirstServeReturnPointsWon']]\n",
    "y = df['Winnings']"
   ]
  },
  {
   "cell_type": "code",
   "execution_count": 100,
   "metadata": {},
   "outputs": [],
   "source": [
    "x_train, x_test, y_train, y_test = train_test_split(x, y, train_size = 0.8)"
   ]
  },
  {
   "cell_type": "code",
   "execution_count": 115,
   "metadata": {},
   "outputs": [],
   "source": [
    "x_test = np.array(x_test)\n",
    "y_test = np.array(y_test)\n",
    "x_train = np.array(x_train)\n",
    "y_train = np.array(y_train)"
   ]
  },
  {
   "cell_type": "code",
   "execution_count": 116,
   "metadata": {},
   "outputs": [
    {
     "data": {
      "text/plain": [
       "LinearRegression()"
      ]
     },
     "execution_count": 116,
     "metadata": {},
     "output_type": "execute_result"
    }
   ],
   "source": [
    "model = LinearRegression()\n",
    "model.fit(x_train,  y_train)"
   ]
  },
  {
   "cell_type": "code",
   "execution_count": 117,
   "metadata": {},
   "outputs": [
    {
     "name": "stdout",
     "output_type": "stream",
     "text": [
      "0.804971971988542\n"
     ]
    }
   ],
   "source": [
    "print(model.score(x_test, y_test))"
   ]
  },
  {
   "cell_type": "code",
   "execution_count": 118,
   "metadata": {},
   "outputs": [],
   "source": [
    "y_predict = model.predict(x_test)"
   ]
  },
  {
   "cell_type": "code",
   "execution_count": 141,
   "metadata": {},
   "outputs": [
    {
     "data": {
      "text/plain": [
       "array([[1.27e+02, 3.00e-01],\n",
       "       [2.21e+02, 3.00e-01],\n",
       "       [3.60e+01, 3.60e-01],\n",
       "       [1.00e+01, 2.50e-01],\n",
       "       [2.00e+01, 3.10e-01],\n",
       "       [3.82e+02, 3.10e-01],\n",
       "       [3.00e+00, 1.50e-01],\n",
       "       [9.00e+00, 2.20e-01],\n",
       "       [1.00e+01, 2.10e-01],\n",
       "       [8.70e+01, 2.70e-01],\n",
       "       [3.90e+01, 3.00e-01],\n",
       "       [1.95e+02, 2.70e-01],\n",
       "       [0.00e+00, 3.00e-02],\n",
       "       [3.87e+02, 2.70e-01],\n",
       "       [3.00e+00, 1.90e-01],\n",
       "       [2.10e+01, 2.00e-01],\n",
       "       [3.37e+02, 3.00e-01],\n",
       "       [2.70e+01, 3.10e-01],\n",
       "       [8.50e+01, 3.20e-01],\n",
       "       [2.10e+01, 2.80e-01],\n",
       "       [5.00e+00, 2.10e-01],\n",
       "       [1.91e+02, 2.80e-01],\n",
       "       [7.00e+00, 1.40e-01],\n",
       "       [6.60e+01, 3.00e-01],\n",
       "       [0.00e+00, 2.60e-01],\n",
       "       [2.40e+01, 2.90e-01],\n",
       "       [8.00e+00, 2.80e-01],\n",
       "       [1.23e+02, 2.40e-01],\n",
       "       [3.30e+02, 2.90e-01],\n",
       "       [3.89e+02, 2.90e-01],\n",
       "       [1.53e+02, 2.40e-01],\n",
       "       [1.60e+02, 2.80e-01],\n",
       "       [8.00e+00, 2.80e-01],\n",
       "       [3.60e+01, 3.20e-01],\n",
       "       [3.48e+02, 2.90e-01],\n",
       "       [3.70e+01, 3.10e-01],\n",
       "       [1.00e+01, 2.40e-01],\n",
       "       [0.00e+00, 1.50e-01],\n",
       "       [8.50e+01, 2.80e-01],\n",
       "       [1.62e+02, 2.40e-01],\n",
       "       [8.90e+01, 2.20e-01],\n",
       "       [3.66e+02, 2.90e-01],\n",
       "       [8.00e+00, 3.10e-01],\n",
       "       [3.84e+02, 2.80e-01],\n",
       "       [3.10e+01, 2.40e-01],\n",
       "       [3.00e+00, 1.70e-01],\n",
       "       [1.50e+01, 1.70e-01],\n",
       "       [3.60e+01, 2.80e-01],\n",
       "       [2.70e+01, 2.40e-01],\n",
       "       [3.00e+00, 1.80e-01],\n",
       "       [1.40e+01, 2.60e-01],\n",
       "       [1.00e+02, 2.70e-01],\n",
       "       [2.42e+02, 3.20e-01],\n",
       "       [2.38e+02, 3.20e-01],\n",
       "       [3.43e+02, 3.00e-01],\n",
       "       [4.90e+01, 2.70e-01],\n",
       "       [2.00e+00, 1.30e-01],\n",
       "       [2.30e+01, 3.00e-01],\n",
       "       [3.00e+02, 2.50e-01],\n",
       "       [2.27e+02, 2.90e-01],\n",
       "       [1.80e+02, 3.10e-01],\n",
       "       [8.00e+00, 2.20e-01],\n",
       "       [1.00e+01, 2.50e-01],\n",
       "       [2.93e+02, 2.60e-01],\n",
       "       [4.00e+00, 1.70e-01],\n",
       "       [2.70e+01, 3.10e-01],\n",
       "       [8.30e+01, 2.70e-01],\n",
       "       [8.00e+00, 2.20e-01],\n",
       "       [2.77e+02, 2.70e-01],\n",
       "       [1.01e+02, 2.70e-01],\n",
       "       [1.40e+01, 2.40e-01],\n",
       "       [1.72e+02, 2.60e-01],\n",
       "       [2.00e+00, 2.00e-01],\n",
       "       [2.40e+01, 2.30e-01],\n",
       "       [6.80e+01, 2.80e-01],\n",
       "       [2.42e+02, 2.80e-01],\n",
       "       [1.85e+02, 2.70e-01],\n",
       "       [1.30e+01, 3.30e-01],\n",
       "       [3.60e+01, 2.70e-01],\n",
       "       [3.90e+01, 2.70e-01],\n",
       "       [1.00e+01, 3.00e-01],\n",
       "       [5.00e+00, 2.70e-01],\n",
       "       [3.42e+02, 3.00e-01],\n",
       "       [1.86e+02, 2.10e-01],\n",
       "       [2.00e+00, 1.30e-01],\n",
       "       [8.00e+00, 3.20e-01],\n",
       "       [4.00e+00, 0.00e+00],\n",
       "       [3.13e+02, 2.60e-01],\n",
       "       [3.73e+02, 3.10e-01],\n",
       "       [2.51e+02, 2.60e-01],\n",
       "       [4.00e+00, 2.20e-01],\n",
       "       [1.55e+02, 2.60e-01],\n",
       "       [1.27e+02, 2.50e-01],\n",
       "       [2.47e+02, 2.90e-01],\n",
       "       [6.00e+01, 2.60e-01],\n",
       "       [2.42e+02, 3.10e-01],\n",
       "       [4.90e+01, 2.50e-01],\n",
       "       [2.19e+02, 2.80e-01],\n",
       "       [4.12e+02, 3.10e-01],\n",
       "       [8.00e+00, 2.40e-01],\n",
       "       [9.00e+00, 1.30e-01],\n",
       "       [4.20e+01, 2.20e-01],\n",
       "       [1.00e+00, 2.00e-01],\n",
       "       [1.47e+02, 3.10e-01],\n",
       "       [2.00e+01, 3.40e-01],\n",
       "       [2.60e+01, 2.40e-01],\n",
       "       [2.30e+01, 3.00e-01],\n",
       "       [4.40e+01, 3.50e-01],\n",
       "       [8.90e+01, 2.90e-01],\n",
       "       [2.60e+01, 2.90e-01],\n",
       "       [7.20e+01, 2.60e-01],\n",
       "       [1.95e+02, 3.00e-01],\n",
       "       [1.58e+02, 3.10e-01],\n",
       "       [5.00e+00, 3.00e-01],\n",
       "       [4.26e+02, 2.90e-01],\n",
       "       [2.00e+01, 3.10e-01],\n",
       "       [3.17e+02, 2.50e-01],\n",
       "       [1.15e+02, 3.60e-01],\n",
       "       [2.60e+01, 1.70e-01],\n",
       "       [1.46e+02, 2.50e-01],\n",
       "       [2.30e+01, 4.20e-01],\n",
       "       [2.10e+01, 2.90e-01],\n",
       "       [3.86e+02, 2.90e-01],\n",
       "       [8.00e+00, 2.70e-01],\n",
       "       [0.00e+00, 9.00e-02],\n",
       "       [5.00e+00, 1.50e-01],\n",
       "       [1.50e+01, 2.20e-01],\n",
       "       [2.98e+02, 3.30e-01],\n",
       "       [2.84e+02, 2.70e-01],\n",
       "       [1.50e+01, 2.90e-01],\n",
       "       [2.00e+01, 2.30e-01],\n",
       "       [2.00e+01, 3.00e-01],\n",
       "       [2.60e+01, 3.10e-01],\n",
       "       [5.00e+00, 2.40e-01],\n",
       "       [2.48e+02, 2.80e-01],\n",
       "       [9.00e+00, 4.70e-01],\n",
       "       [1.30e+01, 2.70e-01],\n",
       "       [1.10e+01, 3.00e-01],\n",
       "       [2.00e+01, 2.20e-01],\n",
       "       [1.05e+02, 2.60e-01],\n",
       "       [2.00e+00, 1.20e-01],\n",
       "       [3.00e+00, 9.00e-02],\n",
       "       [1.81e+02, 3.10e-01],\n",
       "       [0.00e+00, 1.40e-01],\n",
       "       [2.00e+00, 2.30e-01],\n",
       "       [1.10e+01, 2.50e-01],\n",
       "       [4.10e+01, 2.70e-01],\n",
       "       [2.10e+01, 2.70e-01],\n",
       "       [9.60e+01, 2.90e-01],\n",
       "       [5.00e+01, 3.10e-01],\n",
       "       [2.60e+01, 3.40e-01],\n",
       "       [1.60e+01, 1.80e-01],\n",
       "       [2.99e+02, 3.10e-01],\n",
       "       [1.20e+01, 3.10e-01],\n",
       "       [3.04e+02, 2.90e-01],\n",
       "       [2.49e+02, 2.80e-01],\n",
       "       [8.00e+00, 2.60e-01],\n",
       "       [6.80e+01, 2.60e-01],\n",
       "       [2.06e+02, 3.00e-01],\n",
       "       [1.85e+02, 2.80e-01],\n",
       "       [1.10e+01, 2.80e-01],\n",
       "       [5.00e+00, 2.40e-01],\n",
       "       [3.41e+02, 2.90e-01],\n",
       "       [1.61e+02, 2.70e-01],\n",
       "       [2.40e+01, 2.20e-01],\n",
       "       [2.00e+01, 2.10e-01],\n",
       "       [2.00e+00, 2.30e-01],\n",
       "       [3.93e+02, 2.90e-01],\n",
       "       [0.00e+00, 2.20e-01],\n",
       "       [1.83e+02, 2.70e-01],\n",
       "       [9.00e+00, 2.70e-01],\n",
       "       [5.70e+01, 2.50e-01],\n",
       "       [8.10e+01, 2.60e-01],\n",
       "       [2.40e+01, 2.50e-01],\n",
       "       [2.00e+00, 1.60e-01],\n",
       "       [3.70e+01, 2.50e-01],\n",
       "       [3.70e+02, 2.80e-01],\n",
       "       [0.00e+00, 1.70e-01],\n",
       "       [1.40e+01, 2.80e-01],\n",
       "       [2.50e+01, 3.00e-01],\n",
       "       [9.10e+01, 2.60e-01],\n",
       "       [2.03e+02, 2.80e-01],\n",
       "       [6.00e+00, 2.10e-01],\n",
       "       [2.90e+01, 3.30e-01],\n",
       "       [4.01e+02, 2.70e-01],\n",
       "       [4.00e+00, 2.10e-01],\n",
       "       [8.40e+01, 2.70e-01],\n",
       "       [2.42e+02, 3.10e-01],\n",
       "       [4.00e+00, 2.20e-01],\n",
       "       [2.80e+01, 2.50e-01],\n",
       "       [1.23e+02, 2.50e-01],\n",
       "       [1.80e+01, 2.10e-01],\n",
       "       [1.50e+01, 3.20e-01],\n",
       "       [2.00e+00, 2.40e-01],\n",
       "       [4.00e+00, 3.40e-01],\n",
       "       [1.00e+01, 2.00e-01],\n",
       "       [6.40e+01, 3.10e-01],\n",
       "       [4.70e+01, 2.60e-01],\n",
       "       [8.00e+00, 3.80e-01],\n",
       "       [1.40e+01, 2.60e-01],\n",
       "       [1.20e+01, 2.90e-01],\n",
       "       [2.05e+02, 3.10e-01],\n",
       "       [2.80e+01, 2.90e-01],\n",
       "       [1.46e+02, 2.70e-01],\n",
       "       [8.10e+01, 2.70e-01],\n",
       "       [8.70e+01, 2.50e-01],\n",
       "       [1.00e+00, 1.60e-01],\n",
       "       [3.70e+01, 3.10e-01],\n",
       "       [1.08e+02, 2.80e-01],\n",
       "       [3.80e+01, 2.50e-01],\n",
       "       [1.50e+01, 3.20e-01],\n",
       "       [1.89e+02, 2.80e-01],\n",
       "       [4.23e+02, 3.00e-01],\n",
       "       [9.00e+00, 2.50e-01],\n",
       "       [4.00e+00, 2.50e-01],\n",
       "       [3.00e+00, 1.90e-01],\n",
       "       [2.95e+02, 2.80e-01],\n",
       "       [4.12e+02, 3.00e-01],\n",
       "       [1.22e+02, 2.40e-01],\n",
       "       [1.03e+02, 2.50e-01],\n",
       "       [5.00e+00, 2.60e-01],\n",
       "       [2.40e+01, 2.00e-01],\n",
       "       [1.23e+02, 2.80e-01],\n",
       "       [4.80e+01, 2.50e-01],\n",
       "       [3.00e+00, 2.40e-01],\n",
       "       [1.50e+01, 3.20e-01],\n",
       "       [9.00e+01, 2.40e-01],\n",
       "       [2.56e+02, 2.70e-01],\n",
       "       [3.21e+02, 2.80e-01],\n",
       "       [2.16e+02, 3.10e-01],\n",
       "       [4.00e+00, 1.70e-01],\n",
       "       [1.00e+00, 6.00e-02],\n",
       "       [2.10e+01, 2.70e-01],\n",
       "       [1.74e+02, 2.80e-01],\n",
       "       [3.22e+02, 3.20e-01],\n",
       "       [5.00e+00, 2.10e-01],\n",
       "       [2.30e+01, 2.50e-01],\n",
       "       [2.21e+02, 2.90e-01],\n",
       "       [3.00e+00, 2.30e-01],\n",
       "       [4.19e+02, 2.90e-01],\n",
       "       [3.20e+01, 3.00e-01],\n",
       "       [1.00e+00, 1.70e-01],\n",
       "       [2.60e+02, 2.80e-01],\n",
       "       [3.80e+01, 3.00e-01],\n",
       "       [1.30e+02, 2.80e-01],\n",
       "       [2.00e+01, 2.50e-01],\n",
       "       [5.00e+00, 1.90e-01],\n",
       "       [1.30e+01, 3.00e-01],\n",
       "       [1.80e+01, 2.60e-01],\n",
       "       [6.00e+00, 2.70e-01],\n",
       "       [1.00e+00, 2.40e-01],\n",
       "       [5.13e+02, 3.10e-01],\n",
       "       [2.60e+01, 2.90e-01],\n",
       "       [1.68e+02, 2.60e-01],\n",
       "       [0.00e+00, 9.00e-02],\n",
       "       [1.42e+02, 2.70e-01],\n",
       "       [2.80e+01, 2.40e-01],\n",
       "       [1.60e+01, 1.80e-01],\n",
       "       [1.00e+00, 1.70e-01],\n",
       "       [7.00e+01, 2.60e-01],\n",
       "       [9.00e+00, 2.50e-01],\n",
       "       [3.50e+01, 2.70e-01],\n",
       "       [3.00e+00, 2.80e-01],\n",
       "       [9.60e+01, 2.80e-01],\n",
       "       [1.96e+02, 3.10e-01],\n",
       "       [1.00e+00, 2.10e-01],\n",
       "       [1.40e+01, 2.70e-01],\n",
       "       [8.00e+00, 3.00e-01],\n",
       "       [3.00e+00, 2.10e-01],\n",
       "       [3.62e+02, 3.10e-01],\n",
       "       [3.37e+02, 2.90e-01],\n",
       "       [1.36e+02, 3.10e-01],\n",
       "       [8.00e+00, 3.90e-01],\n",
       "       [1.00e+02, 2.70e-01],\n",
       "       [7.00e+01, 2.80e-01],\n",
       "       [9.00e+00, 2.30e-01],\n",
       "       [1.20e+02, 3.00e-01],\n",
       "       [8.00e+00, 2.30e-01],\n",
       "       [4.00e+00, 3.10e-01],\n",
       "       [2.27e+02, 2.90e-01],\n",
       "       [3.50e+01, 2.40e-01],\n",
       "       [6.00e+00, 2.00e-01],\n",
       "       [8.00e+00, 1.80e-01],\n",
       "       [4.40e+01, 3.20e-01],\n",
       "       [4.20e+01, 2.50e-01],\n",
       "       [5.40e+01, 2.70e-01],\n",
       "       [2.91e+02, 3.00e-01],\n",
       "       [2.50e+02, 2.50e-01],\n",
       "       [1.95e+02, 2.70e-01],\n",
       "       [2.40e+01, 3.10e-01],\n",
       "       [1.10e+01, 2.20e-01],\n",
       "       [4.03e+02, 2.90e-01],\n",
       "       [4.00e+00, 2.60e-01],\n",
       "       [3.00e+00, 1.90e-01],\n",
       "       [1.38e+02, 2.60e-01],\n",
       "       [2.24e+02, 2.90e-01],\n",
       "       [4.60e+01, 2.40e-01],\n",
       "       [2.61e+02, 3.00e-01],\n",
       "       [3.00e+01, 2.90e-01],\n",
       "       [3.40e+01, 3.30e-01],\n",
       "       [1.52e+02, 2.80e-01],\n",
       "       [1.24e+02, 2.70e-01],\n",
       "       [8.00e+00, 2.10e-01],\n",
       "       [2.50e+01, 3.50e-01],\n",
       "       [2.72e+02, 2.90e-01],\n",
       "       [1.74e+02, 2.50e-01],\n",
       "       [3.00e+00, 1.40e-01],\n",
       "       [2.21e+02, 2.20e-01],\n",
       "       [4.10e+01, 2.50e-01],\n",
       "       [5.80e+01, 2.70e-01],\n",
       "       [4.00e+00, 2.40e-01],\n",
       "       [1.00e+01, 3.60e-01],\n",
       "       [7.50e+01, 3.00e-01],\n",
       "       [1.50e+01, 2.00e-01],\n",
       "       [1.66e+02, 2.60e-01],\n",
       "       [1.10e+01, 3.10e-01],\n",
       "       [4.00e+00, 2.70e-01],\n",
       "       [1.80e+02, 2.60e-01],\n",
       "       [6.00e+00, 2.20e-01],\n",
       "       [7.00e+00, 3.30e-01],\n",
       "       [3.66e+02, 2.90e-01],\n",
       "       [2.22e+02, 2.90e-01],\n",
       "       [5.50e+01, 2.30e-01],\n",
       "       [4.00e+00, 2.40e-01],\n",
       "       [2.16e+02, 3.30e-01],\n",
       "       [9.00e+00, 2.90e-01],\n",
       "       [1.03e+02, 3.30e-01],\n",
       "       [2.26e+02, 2.80e-01],\n",
       "       [1.00e+00, 1.30e-01],\n",
       "       [2.05e+02, 2.50e-01],\n",
       "       [6.50e+01, 2.40e-01],\n",
       "       [2.00e+00, 2.50e-01],\n",
       "       [1.50e+01, 3.40e-01],\n",
       "       [6.00e+00, 1.80e-01],\n",
       "       [2.19e+02, 2.80e-01],\n",
       "       [3.70e+01, 2.70e-01],\n",
       "       [1.10e+02, 2.50e-01],\n",
       "       [2.61e+02, 2.60e-01],\n",
       "       [2.20e+01, 3.40e-01],\n",
       "       [2.10e+01, 3.10e-01],\n",
       "       [7.00e+01, 2.20e-01],\n",
       "       [2.80e+01, 2.60e-01],\n",
       "       [3.46e+02, 2.90e-01],\n",
       "       [1.81e+02, 2.70e-01],\n",
       "       [1.00e+00, 1.00e-01]])"
      ]
     },
     "execution_count": 141,
     "metadata": {},
     "output_type": "execute_result"
    }
   ],
   "source": [
    "x_test"
   ]
  },
  {
   "cell_type": "code",
   "execution_count": 154,
   "metadata": {},
   "outputs": [
    {
     "data": {
      "image/png": "[encoded data removed]",
      "text/plain": [
       "<Figure size 720x504 with 1 Axes>"
      ]
     },
     "metadata": {
      "needs_background": "light"
     },
     "output_type": "display_data"
    }
   ],
   "source": [
    "x_0 = x_test[0:,0]\n",
    "x_1 = x_test[0:,1]\n",
    "\n",
    "fig = plt.figure(figsize = (10, 7))\n",
    "ax = plt.axes(projection =\"3d\")\n",
    " \n",
    "# Creating plot\n",
    "ax.scatter3D(x_0, x_1, y_test, color = \"green\", alpha = 0.4)\n",
    "ax.plot(x_0,x_1,y_predict, color = \"red\")\n",
    "plt.xlabel(\"BreakPointsOpportunities\")\n",
    "plt.ylabel(\"FirstServeReturnPointsWon\")\n",
    "ax.set_zlabel(\"Winnings\")\n",
    "# show plot\n",
    "plt.show()"
   ]
  },
  {
   "cell_type": "markdown",
   "metadata": {},
   "source": [
    "### Linear Regression with multiple features"
   ]
  },
  {
   "cell_type": "code",
   "execution_count": 156,
   "metadata": {},
   "outputs": [],
   "source": [
    "x = df[['FirstServe','FirstServePointsWon','FirstServeReturnPointsWon',\n",
    "'SecondServePointsWon','SecondServeReturnPointsWon','Aces',\n",
    "'BreakPointsConverted','BreakPointsFaced','BreakPointsOpportunities',\n",
    "'BreakPointsSaved','DoubleFaults','ReturnGamesPlayed','ReturnGamesWon',\n",
    "'ReturnPointsWon','ServiceGamesPlayed','ServiceGamesWon','TotalPointsWon',\n",
    "'TotalServicePointsWon']]\n",
    "y = df[['Winnings']]"
   ]
  },
  {
   "cell_type": "code",
   "execution_count": 157,
   "metadata": {},
   "outputs": [],
   "source": [
    "x_train, x_test, y_train, y_test = train_test_split(x, y, train_size = 0.8)"
   ]
  },
  {
   "cell_type": "code",
   "execution_count": 158,
   "metadata": {},
   "outputs": [
    {
     "data": {
      "text/plain": [
       "LinearRegression()"
      ]
     },
     "execution_count": 158,
     "metadata": {},
     "output_type": "execute_result"
    }
   ],
   "source": [
    "model = LinearRegression()\n",
    "model.fit(x_train,  y_train)"
   ]
  },
  {
   "cell_type": "code",
   "execution_count": 159,
   "metadata": {},
   "outputs": [
    {
     "name": "stdout",
     "output_type": "stream",
     "text": [
      "0.7647016574643737\n"
     ]
    }
   ],
   "source": [
    "print(model.score(x_test, y_test))"
   ]
  },
  {
   "cell_type": "code",
   "execution_count": 161,
   "metadata": {},
   "outputs": [
    {
     "data": {
      "text/plain": [
       "array([[ 329102.71199824],\n",
       "       [ 387678.22236605],\n",
       "       [  31267.7956213 ],\n",
       "       [ 529806.42348759],\n",
       "       [  50895.01914264],\n",
       "       [  38814.86718999],\n",
       "       [  68329.1594121 ],\n",
       "       [ 182051.14924611],\n",
       "       [ 394239.46208277],\n",
       "       [  47809.38274703],\n",
       "       [  49470.88744443],\n",
       "       [ 379680.29669382],\n",
       "       [ 688458.38713125],\n",
       "       [  55829.59410396],\n",
       "       [  74845.71357452],\n",
       "       [ 469170.40838713],\n",
       "       [  46829.8830194 ],\n",
       "       [ 179386.489426  ],\n",
       "       [  38337.20781621],\n",
       "       [ 422160.46385524],\n",
       "       [  75317.31820441],\n",
       "       [ 394107.39458391],\n",
       "       [ 679959.31927094],\n",
       "       [ 422925.32863006],\n",
       "       [ 520713.81713975],\n",
       "       [  33768.27455582],\n",
       "       [ 846356.28862457],\n",
       "       [ 161397.32538277],\n",
       "       [  36338.39628984],\n",
       "       [ 269249.02306768],\n",
       "       [ 185121.28446196],\n",
       "       [  46742.41675311],\n",
       "       [  49022.54736921],\n",
       "       [  71201.99787778],\n",
       "       [ 157570.7565895 ],\n",
       "       [ 421864.40478129],\n",
       "       [  45421.50373606],\n",
       "       [  66389.05271237],\n",
       "       [  62138.64651822],\n",
       "       [ 175027.7859257 ],\n",
       "       [ 280142.37175363],\n",
       "       [ 700265.96643013],\n",
       "       [ 131817.60493342],\n",
       "       [  32517.48570921],\n",
       "       [  64117.9711215 ],\n",
       "       [ 445524.608641  ],\n",
       "       [  41563.25657395],\n",
       "       [ 789570.06006258],\n",
       "       [ 668220.63045561],\n",
       "       [ 467645.90069488],\n",
       "       [ 175387.93500255],\n",
       "       [ 152921.77659428],\n",
       "       [ 310393.05823481],\n",
       "       [  47346.67053931],\n",
       "       [ 124237.47544855],\n",
       "       [ 143135.56829586],\n",
       "       [ 479010.48079028],\n",
       "       [  97682.39023699],\n",
       "       [  91036.51200273],\n",
       "       [ 102230.57681459],\n",
       "       [  37766.97431622],\n",
       "       [ 164642.06320037],\n",
       "       [  56070.13775716],\n",
       "       [ 546122.55245279],\n",
       "       [ 202701.05404394],\n",
       "       [ 113490.70600273],\n",
       "       [ 885877.18188207],\n",
       "       [ 182558.31919711],\n",
       "       [ 385643.0745694 ],\n",
       "       [  47083.24740648],\n",
       "       [ 235294.68167422],\n",
       "       [ 120110.28314747],\n",
       "       [ 119767.85805991],\n",
       "       [  48568.61728406],\n",
       "       [  51251.68967363],\n",
       "       [ 206526.94422677],\n",
       "       [ 348014.9723964 ],\n",
       "       [ 157064.90956402],\n",
       "       [ 672134.78064943],\n",
       "       [ 428341.93567862],\n",
       "       [ 840586.41060957],\n",
       "       [  41094.90868766],\n",
       "       [ 722197.37095659],\n",
       "       [ 228847.13753705],\n",
       "       [  41982.90020933],\n",
       "       [  40759.64775562],\n",
       "       [ 223020.13177185],\n",
       "       [ 233744.46991156],\n",
       "       [ 478601.44999207],\n",
       "       [ 549808.55606416],\n",
       "       [ 183626.61906849],\n",
       "       [ 317971.20878773],\n",
       "       [  46237.93769771],\n",
       "       [  63868.71643636],\n",
       "       [ 289318.61926817],\n",
       "       [  38077.71566542],\n",
       "       [ 448159.92172196],\n",
       "       [ 408067.41804791],\n",
       "       [  48946.11305039],\n",
       "       [  56648.60609532],\n",
       "       [ 592938.51493965],\n",
       "       [ 152626.81182952],\n",
       "       [  32322.34399109],\n",
       "       [ 173625.09892927],\n",
       "       [ 269247.15252606],\n",
       "       [  32275.91241307],\n",
       "       [ 741651.84271399],\n",
       "       [  92874.6521903 ],\n",
       "       [ 121257.64701888],\n",
       "       [ 596040.65315261],\n",
       "       [ 134797.46759179],\n",
       "       [  39826.91039579],\n",
       "       [  54222.2389536 ],\n",
       "       [  95677.47260826],\n",
       "       [ 108044.84598362],\n",
       "       [  44865.74350595],\n",
       "       [ 754083.55004719],\n",
       "       [ 415047.83002996],\n",
       "       [ 675780.63710097],\n",
       "       [ 577629.47168761],\n",
       "       [ 451170.42722632],\n",
       "       [  70919.29423796],\n",
       "       [ 353716.39725137],\n",
       "       [  74326.25773988],\n",
       "       [ 558045.96423794],\n",
       "       [  55923.5598137 ],\n",
       "       [  60859.2862555 ],\n",
       "       [ 233308.22059825],\n",
       "       [  48826.90541946],\n",
       "       [ 165705.17649837],\n",
       "       [ 401506.38188121],\n",
       "       [  54658.25833254],\n",
       "       [ 717742.0933484 ],\n",
       "       [ 537730.58925921],\n",
       "       [ 421227.39593791],\n",
       "       [  39160.97675272],\n",
       "       [ 180044.10587711],\n",
       "       [ 204483.51419717],\n",
       "       [  48431.97166426],\n",
       "       [ 556319.58577871],\n",
       "       [  22398.13497862],\n",
       "       [  83332.97094163],\n",
       "       [ 707910.68992042],\n",
       "       [  38295.12406482],\n",
       "       [  25845.36700368],\n",
       "       [  45795.37937603],\n",
       "       [ 821828.03085609],\n",
       "       [ 481511.26489783],\n",
       "       [ 297563.0350407 ],\n",
       "       [ 786593.09950547],\n",
       "       [  83469.82990375],\n",
       "       [  46204.71370276],\n",
       "       [  35507.25242122],\n",
       "       [  39832.83946547],\n",
       "       [ 660341.24118554],\n",
       "       [  84903.5316137 ],\n",
       "       [  55204.50070294],\n",
       "       [  79101.18351675],\n",
       "       [  58804.68316995],\n",
       "       [  85045.12392276],\n",
       "       [  57548.66831022],\n",
       "       [  70943.00723533],\n",
       "       [ 581706.32687663],\n",
       "       [  40288.03778292],\n",
       "       [  44203.73389854],\n",
       "       [ 191755.47194646],\n",
       "       [ 183073.35399089],\n",
       "       [  38229.50335732],\n",
       "       [  50892.35601968],\n",
       "       [  39310.48631044],\n",
       "       [  72869.99376486],\n",
       "       [ 264264.04704959],\n",
       "       [  84922.98409358],\n",
       "       [  62937.346329  ],\n",
       "       [ 453078.45908204],\n",
       "       [ 548465.72848381],\n",
       "       [ 283306.45853248],\n",
       "       [ 133298.5232951 ],\n",
       "       [  41735.92357643],\n",
       "       [  54487.69642999],\n",
       "       [  51701.26736568],\n",
       "       [  41574.39724205],\n",
       "       [ 821338.00563043],\n",
       "       [  68789.75162742],\n",
       "       [ 108722.27514641],\n",
       "       [ 458682.31273381],\n",
       "       [ 170728.90270518],\n",
       "       [ 358908.07377642],\n",
       "       [ 333275.70084024],\n",
       "       [ 226779.26819714],\n",
       "       [  51250.56416224],\n",
       "       [ 274828.93148019],\n",
       "       [  32466.09116958],\n",
       "       [ 567622.11029533],\n",
       "       [  38427.43209829],\n",
       "       [ 146198.76985546],\n",
       "       [ 670195.15579794],\n",
       "       [ 946833.30516545],\n",
       "       [  33596.88074537],\n",
       "       [ 109351.0178648 ],\n",
       "       [ 113262.40527131],\n",
       "       [ 540450.38386161],\n",
       "       [1090445.70108479],\n",
       "       [  59429.67939895],\n",
       "       [ 255321.92970047],\n",
       "       [  60394.83723063],\n",
       "       [  42897.78694835],\n",
       "       [  52884.54000913],\n",
       "       [  76253.99493587],\n",
       "       [  59516.32403867],\n",
       "       [ 274229.95091608],\n",
       "       [  25980.45714159],\n",
       "       [  64289.12437366],\n",
       "       [ 150219.5910093 ],\n",
       "       [ 664650.01192707],\n",
       "       [ 100020.79060199],\n",
       "       [  38743.67207717],\n",
       "       [  40114.62183679],\n",
       "       [  61882.53824141],\n",
       "       [ 142946.0075815 ],\n",
       "       [ 103821.1784138 ],\n",
       "       [  69662.86256114],\n",
       "       [ 501924.56362827],\n",
       "       [  56822.58867055],\n",
       "       [  71533.37605548],\n",
       "       [ 227393.43306836],\n",
       "       [  32462.83864631],\n",
       "       [  47961.60095511],\n",
       "       [ 307081.49599586],\n",
       "       [  52046.29903876],\n",
       "       [  65047.87631626],\n",
       "       [  84173.36181048],\n",
       "       [  78174.97856676],\n",
       "       [  78376.53062623],\n",
       "       [ 159485.74708473],\n",
       "       [ 518227.85844681],\n",
       "       [ 381071.50945888],\n",
       "       [ 335302.15333036],\n",
       "       [ 583886.73890345],\n",
       "       [ 130829.47165742],\n",
       "       [  35912.62282895],\n",
       "       [  79265.60737783],\n",
       "       [ 546177.97287818],\n",
       "       [  99593.53748654],\n",
       "       [  54102.22436836],\n",
       "       [  32872.14206903],\n",
       "       [ 330302.45056543],\n",
       "       [  93099.8582832 ],\n",
       "       [ 571228.21159985],\n",
       "       [ 347415.57914009],\n",
       "       [ 108382.15317321],\n",
       "       [ 191271.02561674],\n",
       "       [ 771375.72921109],\n",
       "       [  50950.24324552],\n",
       "       [  73386.97983221],\n",
       "       [ 112667.51956209],\n",
       "       [  58991.24590169],\n",
       "       [ 435656.77312375],\n",
       "       [ 135099.92669513],\n",
       "       [  50846.17335795],\n",
       "       [  70479.50443565],\n",
       "       [  44063.97212253],\n",
       "       [  65924.07601785],\n",
       "       [  51012.81165736],\n",
       "       [ 233958.89640905],\n",
       "       [ 429031.29047728],\n",
       "       [ 641251.01586398],\n",
       "       [ 286175.38498759],\n",
       "       [ 191317.18958729],\n",
       "       [  56265.31730331],\n",
       "       [  84615.94073381],\n",
       "       [  45801.12183691],\n",
       "       [ 767125.05369375],\n",
       "       [  45206.58213259],\n",
       "       [ 258222.13723858],\n",
       "       [  48411.40082876],\n",
       "       [  95902.31235023],\n",
       "       [ 380309.46742969],\n",
       "       [  24786.20213485],\n",
       "       [  53416.00994339],\n",
       "       [ 439387.37911709],\n",
       "       [ 352050.25360475],\n",
       "       [  50620.89422012],\n",
       "       [ 441332.7468462 ],\n",
       "       [ 420744.53382396],\n",
       "       [ 106466.74879732],\n",
       "       [ 534629.27745926],\n",
       "       [ 113740.34756092],\n",
       "       [ 733622.43177039],\n",
       "       [ 441471.68304734],\n",
       "       [ 807853.35572668],\n",
       "       [ 536084.13927898],\n",
       "       [ 222953.25087439],\n",
       "       [  74930.6671371 ],\n",
       "       [ 188856.91987489],\n",
       "       [ 192411.35709758],\n",
       "       [  22903.29844622],\n",
       "       [ 105069.81213499],\n",
       "       [ 159203.84838747],\n",
       "       [ 608566.19430844],\n",
       "       [  45049.94032333],\n",
       "       [  63092.8193696 ],\n",
       "       [  37983.98611186],\n",
       "       [  52465.68731749],\n",
       "       [ 179153.79558397],\n",
       "       [  33502.38917297],\n",
       "       [ 291969.34156051],\n",
       "       [ 857776.3513288 ],\n",
       "       [  31209.0292103 ],\n",
       "       [ 543367.80644495],\n",
       "       [ 662829.07921161],\n",
       "       [  59212.55629572],\n",
       "       [  46553.78582732],\n",
       "       [  85637.61288717],\n",
       "       [ 224997.43391304],\n",
       "       [ 779440.92053874],\n",
       "       [ 445202.32249054],\n",
       "       [  89685.36839369],\n",
       "       [ 171779.52619543],\n",
       "       [  40287.15506164],\n",
       "       [  77435.16204053],\n",
       "       [ 420796.91358167],\n",
       "       [ 601153.34849721],\n",
       "       [ 104191.84251523],\n",
       "       [ 558287.75876173],\n",
       "       [  61493.24926233],\n",
       "       [ 554813.07044787],\n",
       "       [  56085.4337649 ],\n",
       "       [  29883.02512586],\n",
       "       [ 447284.22614269],\n",
       "       [ 638597.6201052 ],\n",
       "       [  44238.17170748],\n",
       "       [ 704671.94508228],\n",
       "       [ 602495.88475003],\n",
       "       [ 121752.64479618],\n",
       "       [ 837774.6042751 ],\n",
       "       [  75288.89969391],\n",
       "       [  42585.23757009],\n",
       "       [  30400.8980052 ],\n",
       "       [  91113.22681947],\n",
       "       [ 786440.26469052],\n",
       "       [ 541296.3682865 ],\n",
       "       [ 619647.0326071 ],\n",
       "       [  54278.13419816],\n",
       "       [  51355.59980841]])"
      ]
     },
     "execution_count": 161,
     "metadata": {},
     "output_type": "execute_result"
    }
   ],
   "source": [
    "y_predict = model.predict(x_test)\n",
    "y_predict"
   ]
  }
 ],
 "metadata": {
  "kernelspec": {
   "display_name": "Python 3",
   "language": "python",
   "name": "python3"
  },
  "language_info": {
   "codemirror_mode": {
    "name": "ipython",
    "version": 3
   },
   "file_extension": ".py",
   "mimetype": "text/x-python",
   "name": "python",
   "nbconvert_exporter": "python",
   "pygments_lexer": "ipython3",
   "version": "3.8.5"
  }
 },
 "nbformat": 4,
 "nbformat_minor": 4
}
