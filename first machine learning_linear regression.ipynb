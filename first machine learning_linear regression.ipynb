{
 "cells": [
  {
   "cell_type": "markdown",
   "metadata": {},
   "source": [
    "## First Machine Learning Project"
   ]
  },
  {
   "cell_type": "markdown",
   "metadata": {},
   "source": [
    "### Loading Data"
   ]
  },
  {
   "cell_type": "code",
   "execution_count": 467,
   "metadata": {},
   "outputs": [
    {
     "name": "stdout",
     "output_type": "stream",
     "text": [
      "    population    profit\n",
      "0       6.1101  17.59200\n",
      "1       5.5277   9.13020\n",
      "2       8.5186  13.66200\n",
      "3       7.0032  11.85400\n",
      "4       5.8598   6.82330\n",
      "..         ...       ...\n",
      "92      5.8707   7.20290\n",
      "93      5.3054   1.98690\n",
      "94      8.2934   0.14454\n",
      "95     13.3940   9.05510\n",
      "96      5.4369   0.61705\n",
      "\n",
      "[97 rows x 2 columns]\n"
     ]
    }
   ],
   "source": [
    "import pandas as pd\n",
    "import matplotlib.pyplot as plt\n",
    "import numpy as np\n",
    "\n",
    "\n",
    "data = pd.read_csv('ex1data1.csv')\n",
    "print(data)\n"
   ]
  },
  {
   "cell_type": "markdown",
   "metadata": {},
   "source": [
    "### Columns names"
   ]
  },
  {
   "cell_type": "code",
   "execution_count": 468,
   "metadata": {},
   "outputs": [
    {
     "name": "stdout",
     "output_type": "stream",
     "text": [
      "Index(['population', ' profit'], dtype='object')\n"
     ]
    }
   ],
   "source": [
    "columns = data.columns\n",
    "print(columns)"
   ]
  },
  {
   "cell_type": "markdown",
   "metadata": {},
   "source": [
    "### Columns to lists"
   ]
  },
  {
   "cell_type": "code",
   "execution_count": 469,
   "metadata": {},
   "outputs": [],
   "source": [
    "population = list(data['population'])\n",
    "profit = list(data[' profit'])\n",
    "\n"
   ]
  },
  {
   "cell_type": "markdown",
   "metadata": {},
   "source": [
    "### Visualizing data"
   ]
  },
  {
   "cell_type": "code",
   "execution_count": 470,
   "metadata": {},
   "outputs": [
    {
     "data": {
      "image/png": "[encoded data removed]",
      "text/plain": [
       "<Figure size 432x288 with 1 Axes>"
      ]
     },
     "metadata": {
      "needs_background": "light"
     },
     "output_type": "display_data"
    }
   ],
   "source": [
    "for i in range(0,len(population)):\n",
    "    plt.plot(population[i], profit[i], 'rx')\n",
    "    \n",
    "\n",
    "show()\n"
   ]
  },
  {
   "cell_type": "markdown",
   "metadata": {},
   "source": [
    "## Linear Regresion"
   ]
  },
  {
   "cell_type": "markdown",
   "metadata": {},
   "source": [
    "### Cost function"
   ]
  },
  {
   "cell_type": "code",
   "execution_count": 471,
   "metadata": {},
   "outputs": [
    {
     "name": "stdout",
     "output_type": "stream",
     "text": [
      "Introduce theta 0: 0\n",
      "Introduce theta 1: 0\n",
      "32.072733877455676\n"
     ]
    }
   ],
   "source": [
    "ones_1 = np.ones(len(population))\n",
    "\n",
    "\n",
    "\n",
    "X = np.transpose(np.matrix([list(ones_1), population[0:]]))\n",
    "y = np.transpose(np.matrix([profit[0:]]))\n",
    "\n",
    "\n",
    "def J(X, y, theta):\n",
    "    h = X * theta\n",
    "    m = len(y)\n",
    "    J = (np.sum((np.array(h - y))** 2))/(2 * m)\n",
    "    return J\n",
    "\n",
    "t0 = int(input(\"Introduce theta 0: \"))\n",
    "t1 = int(input(\"Introduce theta 1: \"))\n",
    "theta = np.transpose(np.matrix([t0,t1]))\n",
    "print(J(X,y,theta))\n",
    "\n",
    "\n"
   ]
  },
  {
   "cell_type": "markdown",
   "metadata": {},
   "source": [
    "### Gradient descent"
   ]
  },
  {
   "cell_type": "code",
   "execution_count": 472,
   "metadata": {},
   "outputs": [
    {
     "name": "stdout",
     "output_type": "stream",
     "text": [
      "Introduce el número de iteraciones: 1500\n",
      "Introduce el parámetro alpha: 0.01\n",
      "[[-3.63029144]\n",
      " [ 1.16636235]]\n"
     ]
    }
   ],
   "source": [
    "iterations = int(input(\"Introduce el número de iteraciones: \"))\n",
    "alpha = float(input(\"Introduce el parámetro alpha: \"))\n",
    "\n",
    "\n",
    "def grad_desc(X, y, theta, alpha, iterations):\n",
    "    m = len(y)\n",
    "    thet = theta\n",
    "    for i in range(iterations):\n",
    "        h = X * thet\n",
    "        z= (np.transpose(X) * (h - y))/ m\n",
    "        thet = thet -alpha * z\n",
    "    return thet\n",
    "\n",
    "thet_1 = grad_desc(X,y, theta, alpha, iterations)\n",
    "print(thet_1)\n"
   ]
  },
  {
   "cell_type": "markdown",
   "metadata": {},
   "source": [
    "### Visualizing"
   ]
  },
  {
   "cell_type": "code",
   "execution_count": 473,
   "metadata": {},
   "outputs": [
    {
     "data": {
      "image/png": "[encoded data removed]",
      "text/plain": [
       "<Figure size 432x288 with 1 Axes>"
      ]
     },
     "metadata": {
      "needs_background": "light"
     },
     "output_type": "display_data"
    }
   ],
   "source": [
    "for i in range(1,len(population)):\n",
    "    plot(population[i], profit[i], 'rx')\n",
    "Y = [item * thet_1[1,0]+thet_1[0,0] for item in population] \n",
    "plot(population, Y)\n",
    "show()"
   ]
  },
  {
   "cell_type": "markdown",
   "metadata": {},
   "source": [
    "### Predicting"
   ]
  },
  {
   "cell_type": "code",
   "execution_count": 481,
   "metadata": {},
   "outputs": [
    {
     "name": "stdout",
     "output_type": "stream",
     "text": [
      "Introduce la cantidad de población en 10,000's: 7\n",
      "Para la población 70000.0  se predice un profit de $ 45342.45012944714 \n"
     ]
    }
   ],
   "source": [
    "pop = float(input(\"Introduce la cantidad de población en 10,000's: \"))\n",
    "\n",
    "print(\"Para la población {}  se predice un profit de $ {} \".format(pop*10000, (thet_1[0,0]+pop*thet_1[1,0])*10000))"
   ]
  }
 ],
 "metadata": {
  "kernelspec": {
   "display_name": "Python 3",
   "language": "python",
   "name": "python3"
  },
  "language_info": {
   "codemirror_mode": {
    "name": "ipython",
    "version": 3
   },
   "file_extension": ".py",
   "mimetype": "text/x-python",
   "name": "python",
   "nbconvert_exporter": "python",
   "pygments_lexer": "ipython3",
   "version": "3.8.5"
  }
 },
 "nbformat": 4,
 "nbformat_minor": 4
}
